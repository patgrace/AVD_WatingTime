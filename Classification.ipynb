{
 "cells": [
  {
   "cell_type": "markdown",
   "metadata": {},
   "source": [
    "# Klasifikasi "
   ]
  },
  {
   "cell_type": "code",
   "execution_count": 149,
   "metadata": {},
   "outputs": [],
   "source": [
    "import pandas as pd\n",
    "import seaborn as sns\n",
    "import matplotlib.pyplot as plt\n",
    "\n",
    "from sklearn.svm import SVC\n",
    "from sklearn.naive_bayes import GaussianNB\n",
    "from sklearn.tree import DecisionTreeClassifier\n",
    "from sklearn.neighbors import KNeighborsClassifier\n",
    "from sklearn.linear_model import LogisticRegression\n",
    "from sklearn.ensemble import RandomForestClassifier\n",
    "from sklearn.model_selection import train_test_split\n",
    "from sklearn.metrics import confusion_matrix, accuracy_score ,precision_score,recall_score,f1_score, ConfusionMatrixDisplay"
   ]
  },
  {
   "cell_type": "code",
   "execution_count": 150,
   "metadata": {},
   "outputs": [
    {
     "name": "stdout",
     "output_type": "stream",
     "text": [
      "     Umur  SHIFT Jenis Pasien Jenis Pemeriksaan Detil Pemeriksaan  \\\n",
      "0    48.0   PAGI         BARU               USG    ABD ATAS BAWAH   \n",
      "1    54.0   PAGI         BARU               USG    ABD ATAS BAWAH   \n",
      "2    53.0   PAGI         BARU               USG    ABD ATAS BAWAH   \n",
      "3    55.0   PAGI         BARU               USG    ABD ATAS BAWAH   \n",
      "4    71.0   PAGI         BARU               USG    ABD ATAS BAWAH   \n",
      "..    ...    ...          ...               ...               ...   \n",
      "110   5.0   SORE         BARU           RONTGEN            THORAX   \n",
      "111  13.0  MALAM         BARU           RONTGEN            THORAX   \n",
      "112  38.0   PAGI         BARU               USG           THYROID   \n",
      "113  32.0   SORE         BARU               USG               TVS   \n",
      "114  48.0   SORE         BARU           RONTGEN             WRIST   \n",
      "\n",
      "    Jenis Pembayaran  Waktu Tunggu   \n",
      "0                IKS             24  \n",
      "1                KES             24  \n",
      "2               UMUM             23  \n",
      "3                KES             23  \n",
      "4                KES             24  \n",
      "..               ...            ...  \n",
      "110             UMUM             36  \n",
      "111              KES             13  \n",
      "112             UMUM             22  \n",
      "113              KES             18  \n",
      "114             UMUM             23  \n",
      "\n",
      "[115 rows x 7 columns]\n"
     ]
    }
   ],
   "source": [
    "nama_file = 'registrasi.xlsx'\n",
    "dataset = pd.read_excel(nama_file)\n",
    "print(dataset)"
   ]
  },
  {
   "cell_type": "code",
   "execution_count": 151,
   "metadata": {},
   "outputs": [
    {
     "data": {
      "text/html": [
       "<div>\n",
       "<style scoped>\n",
       "    .dataframe tbody tr th:only-of-type {\n",
       "        vertical-align: middle;\n",
       "    }\n",
       "\n",
       "    .dataframe tbody tr th {\n",
       "        vertical-align: top;\n",
       "    }\n",
       "\n",
       "    .dataframe thead th {\n",
       "        text-align: right;\n",
       "    }\n",
       "</style>\n",
       "<table border=\"1\" class=\"dataframe\">\n",
       "  <thead>\n",
       "    <tr style=\"text-align: right;\">\n",
       "      <th></th>\n",
       "      <th>Umur</th>\n",
       "      <th>SHIFT</th>\n",
       "      <th>Jenis Pasien</th>\n",
       "      <th>Jenis Pemeriksaan</th>\n",
       "      <th>Detil Pemeriksaan</th>\n",
       "      <th>Jenis Pembayaran</th>\n",
       "      <th>Waktu Tunggu</th>\n",
       "    </tr>\n",
       "  </thead>\n",
       "  <tbody>\n",
       "    <tr>\n",
       "      <th>0</th>\n",
       "      <td>48.0</td>\n",
       "      <td>1</td>\n",
       "      <td>1</td>\n",
       "      <td>1</td>\n",
       "      <td>1</td>\n",
       "      <td>1</td>\n",
       "      <td>24</td>\n",
       "    </tr>\n",
       "    <tr>\n",
       "      <th>1</th>\n",
       "      <td>54.0</td>\n",
       "      <td>1</td>\n",
       "      <td>1</td>\n",
       "      <td>1</td>\n",
       "      <td>1</td>\n",
       "      <td>3</td>\n",
       "      <td>24</td>\n",
       "    </tr>\n",
       "    <tr>\n",
       "      <th>2</th>\n",
       "      <td>53.0</td>\n",
       "      <td>1</td>\n",
       "      <td>1</td>\n",
       "      <td>1</td>\n",
       "      <td>1</td>\n",
       "      <td>2</td>\n",
       "      <td>23</td>\n",
       "    </tr>\n",
       "    <tr>\n",
       "      <th>3</th>\n",
       "      <td>55.0</td>\n",
       "      <td>1</td>\n",
       "      <td>1</td>\n",
       "      <td>1</td>\n",
       "      <td>1</td>\n",
       "      <td>3</td>\n",
       "      <td>23</td>\n",
       "    </tr>\n",
       "    <tr>\n",
       "      <th>4</th>\n",
       "      <td>71.0</td>\n",
       "      <td>1</td>\n",
       "      <td>1</td>\n",
       "      <td>1</td>\n",
       "      <td>1</td>\n",
       "      <td>3</td>\n",
       "      <td>24</td>\n",
       "    </tr>\n",
       "    <tr>\n",
       "      <th>...</th>\n",
       "      <td>...</td>\n",
       "      <td>...</td>\n",
       "      <td>...</td>\n",
       "      <td>...</td>\n",
       "      <td>...</td>\n",
       "      <td>...</td>\n",
       "      <td>...</td>\n",
       "    </tr>\n",
       "    <tr>\n",
       "      <th>110</th>\n",
       "      <td>5.0</td>\n",
       "      <td>2</td>\n",
       "      <td>1</td>\n",
       "      <td>2</td>\n",
       "      <td>2</td>\n",
       "      <td>2</td>\n",
       "      <td>36</td>\n",
       "    </tr>\n",
       "    <tr>\n",
       "      <th>111</th>\n",
       "      <td>13.0</td>\n",
       "      <td>3</td>\n",
       "      <td>1</td>\n",
       "      <td>2</td>\n",
       "      <td>2</td>\n",
       "      <td>3</td>\n",
       "      <td>13</td>\n",
       "    </tr>\n",
       "    <tr>\n",
       "      <th>112</th>\n",
       "      <td>38.0</td>\n",
       "      <td>1</td>\n",
       "      <td>1</td>\n",
       "      <td>1</td>\n",
       "      <td>7</td>\n",
       "      <td>2</td>\n",
       "      <td>22</td>\n",
       "    </tr>\n",
       "    <tr>\n",
       "      <th>113</th>\n",
       "      <td>32.0</td>\n",
       "      <td>2</td>\n",
       "      <td>1</td>\n",
       "      <td>1</td>\n",
       "      <td>16</td>\n",
       "      <td>3</td>\n",
       "      <td>18</td>\n",
       "    </tr>\n",
       "    <tr>\n",
       "      <th>114</th>\n",
       "      <td>48.0</td>\n",
       "      <td>2</td>\n",
       "      <td>1</td>\n",
       "      <td>2</td>\n",
       "      <td>14</td>\n",
       "      <td>2</td>\n",
       "      <td>23</td>\n",
       "    </tr>\n",
       "  </tbody>\n",
       "</table>\n",
       "<p>115 rows × 7 columns</p>\n",
       "</div>"
      ],
      "text/plain": [
       "     Umur  SHIFT  Jenis Pasien  Jenis Pemeriksaan  Detil Pemeriksaan  \\\n",
       "0    48.0      1             1                  1                  1   \n",
       "1    54.0      1             1                  1                  1   \n",
       "2    53.0      1             1                  1                  1   \n",
       "3    55.0      1             1                  1                  1   \n",
       "4    71.0      1             1                  1                  1   \n",
       "..    ...    ...           ...                ...                ...   \n",
       "110   5.0      2             1                  2                  2   \n",
       "111  13.0      3             1                  2                  2   \n",
       "112  38.0      1             1                  1                  7   \n",
       "113  32.0      2             1                  1                 16   \n",
       "114  48.0      2             1                  2                 14   \n",
       "\n",
       "     Jenis Pembayaran  Waktu Tunggu   \n",
       "0                   1             24  \n",
       "1                   3             24  \n",
       "2                   2             23  \n",
       "3                   3             23  \n",
       "4                   3             24  \n",
       "..                ...            ...  \n",
       "110                 2             36  \n",
       "111                 3             13  \n",
       "112                 2             22  \n",
       "113                 3             18  \n",
       "114                 2             23  \n",
       "\n",
       "[115 rows x 7 columns]"
      ]
     },
     "execution_count": 151,
     "metadata": {},
     "output_type": "execute_result"
    }
   ],
   "source": [
    "# Mengubah data menjad bentuk numerik\n",
    "dataset['SHIFT'].replace({'':0, 'PAGI':1, 'SORE':2, 'MALAM':3}, inplace=True)\n",
    "dataset['Jenis Pasien'].replace({'':0, 'BARU':1, 'LAMA':2}, inplace=True)\n",
    "dataset['Jenis Pemeriksaan'].replace({'':0, 'USG':1, 'RONTGEN':2, 'CT SCAN':3}, inplace=True)\n",
    "dataset['Detil Pemeriksaan'].replace({'':0, 'ABD ATAS BAWAH':1, 'THORAX':2, 'GENU':3, 'KONTROL HAMIL':4, 'MANUS':5, 'ELBOW':6, 'THYROID':7, 'KANDUNGAN':8, 'LS':9, 'CRURIS':10, 'PEDIS':11, 'PELVIS':12, 'KEPALA':13, 'WRIST':14, 'COCCYGEUS':15, 'TVS':16, 'STONO':17, 'BOF':18}, inplace=True)\n",
    "dataset['Jenis Pembayaran'].replace({'':0, 'IKS':1, 'UMUM':2, 'KES':3}, inplace=True)\n",
    "dataset"
   ]
  },
  {
   "cell_type": "code",
   "execution_count": 152,
   "metadata": {},
   "outputs": [
    {
     "data": {
      "text/plain": [
       "Umur                 0\n",
       "SHIFT                0\n",
       "Jenis Pasien         0\n",
       "Jenis Pemeriksaan    0\n",
       "Detil Pemeriksaan    0\n",
       "Jenis Pembayaran     0\n",
       "Waktu Tunggu         0\n",
       "dtype: int64"
      ]
     },
     "execution_count": 152,
     "metadata": {},
     "output_type": "execute_result"
    }
   ],
   "source": [
    "# # Mendeteksi missing value\n",
    "# if dataset.isna().values.any():\n",
    "#     print(\"Missing value:\\n\")\n",
    "#     print(dataset.isna().any())\n",
    "# else:\n",
    "#     print(\"tidak ada missing value\\n\")\n",
    "# print(\"\")\n",
    "dataset.isnull().sum()"
   ]
  },
  {
   "cell_type": "code",
   "execution_count": 153,
   "metadata": {},
   "outputs": [
    {
     "data": {
      "text/html": [
       "<div>\n",
       "<style scoped>\n",
       "    .dataframe tbody tr th:only-of-type {\n",
       "        vertical-align: middle;\n",
       "    }\n",
       "\n",
       "    .dataframe tbody tr th {\n",
       "        vertical-align: top;\n",
       "    }\n",
       "\n",
       "    .dataframe thead th {\n",
       "        text-align: right;\n",
       "    }\n",
       "</style>\n",
       "<table border=\"1\" class=\"dataframe\">\n",
       "  <thead>\n",
       "    <tr style=\"text-align: right;\">\n",
       "      <th></th>\n",
       "      <th>Umur</th>\n",
       "      <th>SHIFT</th>\n",
       "      <th>Jenis Pasien</th>\n",
       "      <th>Jenis Pemeriksaan</th>\n",
       "      <th>Detil Pemeriksaan</th>\n",
       "      <th>Jenis Pembayaran</th>\n",
       "      <th>Waktu Tunggu</th>\n",
       "    </tr>\n",
       "  </thead>\n",
       "  <tbody>\n",
       "    <tr>\n",
       "      <th>0</th>\n",
       "      <td>48.0</td>\n",
       "      <td>1</td>\n",
       "      <td>1</td>\n",
       "      <td>1</td>\n",
       "      <td>1</td>\n",
       "      <td>1</td>\n",
       "      <td>24</td>\n",
       "    </tr>\n",
       "    <tr>\n",
       "      <th>1</th>\n",
       "      <td>54.0</td>\n",
       "      <td>1</td>\n",
       "      <td>1</td>\n",
       "      <td>1</td>\n",
       "      <td>1</td>\n",
       "      <td>3</td>\n",
       "      <td>24</td>\n",
       "    </tr>\n",
       "    <tr>\n",
       "      <th>2</th>\n",
       "      <td>53.0</td>\n",
       "      <td>1</td>\n",
       "      <td>1</td>\n",
       "      <td>1</td>\n",
       "      <td>1</td>\n",
       "      <td>2</td>\n",
       "      <td>23</td>\n",
       "    </tr>\n",
       "    <tr>\n",
       "      <th>3</th>\n",
       "      <td>55.0</td>\n",
       "      <td>1</td>\n",
       "      <td>1</td>\n",
       "      <td>1</td>\n",
       "      <td>1</td>\n",
       "      <td>3</td>\n",
       "      <td>23</td>\n",
       "    </tr>\n",
       "    <tr>\n",
       "      <th>4</th>\n",
       "      <td>71.0</td>\n",
       "      <td>1</td>\n",
       "      <td>1</td>\n",
       "      <td>1</td>\n",
       "      <td>1</td>\n",
       "      <td>3</td>\n",
       "      <td>24</td>\n",
       "    </tr>\n",
       "    <tr>\n",
       "      <th>...</th>\n",
       "      <td>...</td>\n",
       "      <td>...</td>\n",
       "      <td>...</td>\n",
       "      <td>...</td>\n",
       "      <td>...</td>\n",
       "      <td>...</td>\n",
       "      <td>...</td>\n",
       "    </tr>\n",
       "    <tr>\n",
       "      <th>110</th>\n",
       "      <td>5.0</td>\n",
       "      <td>2</td>\n",
       "      <td>1</td>\n",
       "      <td>2</td>\n",
       "      <td>2</td>\n",
       "      <td>2</td>\n",
       "      <td>36</td>\n",
       "    </tr>\n",
       "    <tr>\n",
       "      <th>111</th>\n",
       "      <td>13.0</td>\n",
       "      <td>3</td>\n",
       "      <td>1</td>\n",
       "      <td>2</td>\n",
       "      <td>2</td>\n",
       "      <td>3</td>\n",
       "      <td>13</td>\n",
       "    </tr>\n",
       "    <tr>\n",
       "      <th>112</th>\n",
       "      <td>38.0</td>\n",
       "      <td>1</td>\n",
       "      <td>1</td>\n",
       "      <td>1</td>\n",
       "      <td>7</td>\n",
       "      <td>2</td>\n",
       "      <td>22</td>\n",
       "    </tr>\n",
       "    <tr>\n",
       "      <th>113</th>\n",
       "      <td>32.0</td>\n",
       "      <td>2</td>\n",
       "      <td>1</td>\n",
       "      <td>1</td>\n",
       "      <td>16</td>\n",
       "      <td>3</td>\n",
       "      <td>18</td>\n",
       "    </tr>\n",
       "    <tr>\n",
       "      <th>114</th>\n",
       "      <td>48.0</td>\n",
       "      <td>2</td>\n",
       "      <td>1</td>\n",
       "      <td>2</td>\n",
       "      <td>14</td>\n",
       "      <td>2</td>\n",
       "      <td>23</td>\n",
       "    </tr>\n",
       "  </tbody>\n",
       "</table>\n",
       "<p>115 rows × 7 columns</p>\n",
       "</div>"
      ],
      "text/plain": [
       "     Umur  SHIFT  Jenis Pasien  Jenis Pemeriksaan  Detil Pemeriksaan  \\\n",
       "0    48.0      1             1                  1                  1   \n",
       "1    54.0      1             1                  1                  1   \n",
       "2    53.0      1             1                  1                  1   \n",
       "3    55.0      1             1                  1                  1   \n",
       "4    71.0      1             1                  1                  1   \n",
       "..    ...    ...           ...                ...                ...   \n",
       "110   5.0      2             1                  2                  2   \n",
       "111  13.0      3             1                  2                  2   \n",
       "112  38.0      1             1                  1                  7   \n",
       "113  32.0      2             1                  1                 16   \n",
       "114  48.0      2             1                  2                 14   \n",
       "\n",
       "     Jenis Pembayaran  Waktu Tunggu   \n",
       "0                   1             24  \n",
       "1                   3             24  \n",
       "2                   2             23  \n",
       "3                   3             23  \n",
       "4                   3             24  \n",
       "..                ...            ...  \n",
       "110                 2             36  \n",
       "111                 3             13  \n",
       "112                 2             22  \n",
       "113                 3             18  \n",
       "114                 2             23  \n",
       "\n",
       "[115 rows x 7 columns]"
      ]
     },
     "execution_count": 153,
     "metadata": {},
     "output_type": "execute_result"
    }
   ],
   "source": [
    "# Mengganti dataset rata-rata\n",
    "mean = dataset.mean()\n",
    "missingValue = dataset.fillna(mean)\n",
    "missingValue"
   ]
  },
  {
   "cell_type": "markdown",
   "metadata": {},
   "source": [
    "### Mengubah menjadi ordinal"
   ]
  },
  {
   "cell_type": "code",
   "execution_count": 154,
   "metadata": {},
   "outputs": [
    {
     "name": "stdout",
     "output_type": "stream",
     "text": [
      "0      1\n",
      "1      1\n",
      "2      1\n",
      "3      1\n",
      "4      1\n",
      "      ..\n",
      "110    2\n",
      "111    0\n",
      "112    1\n",
      "113    0\n",
      "114    1\n",
      "Name: Waktu Tunggu , Length: 115, dtype: category\n",
      "Categories (3, int64): [0 < 1 < 2]\n"
     ]
    }
   ],
   "source": [
    "# Create a Pandas Series with interval data.\n",
    "series = pd.Series(dataset['Waktu Tunggu '])\n",
    "\n",
    "# Convert the interval data to ordinal data using the pd.cut() function with 3 bins.\n",
    "ordinal_data = pd.cut(series, bins=[3, 21, 33, 59], labels=[0, 1, 2])\n",
    "# Print the ordinal data.\n",
    "print(ordinal_data)"
   ]
  },
  {
   "cell_type": "markdown",
   "metadata": {},
   "source": [
    "### Data Training"
   ]
  },
  {
   "cell_type": "code",
   "execution_count": 179,
   "metadata": {},
   "outputs": [
    {
     "data": {
      "text/html": [
       "<div>\n",
       "<style scoped>\n",
       "    .dataframe tbody tr th:only-of-type {\n",
       "        vertical-align: middle;\n",
       "    }\n",
       "\n",
       "    .dataframe tbody tr th {\n",
       "        vertical-align: top;\n",
       "    }\n",
       "\n",
       "    .dataframe thead th {\n",
       "        text-align: right;\n",
       "    }\n",
       "</style>\n",
       "<table border=\"1\" class=\"dataframe\">\n",
       "  <thead>\n",
       "    <tr style=\"text-align: right;\">\n",
       "      <th></th>\n",
       "      <th>Jenis Pemeriksaan</th>\n",
       "      <th>SHIFT</th>\n",
       "      <th>Jenis Pasien</th>\n",
       "    </tr>\n",
       "  </thead>\n",
       "  <tbody>\n",
       "    <tr>\n",
       "      <th>0</th>\n",
       "      <td>1</td>\n",
       "      <td>1</td>\n",
       "      <td>1</td>\n",
       "    </tr>\n",
       "    <tr>\n",
       "      <th>1</th>\n",
       "      <td>1</td>\n",
       "      <td>1</td>\n",
       "      <td>1</td>\n",
       "    </tr>\n",
       "    <tr>\n",
       "      <th>2</th>\n",
       "      <td>1</td>\n",
       "      <td>1</td>\n",
       "      <td>1</td>\n",
       "    </tr>\n",
       "    <tr>\n",
       "      <th>3</th>\n",
       "      <td>1</td>\n",
       "      <td>1</td>\n",
       "      <td>1</td>\n",
       "    </tr>\n",
       "    <tr>\n",
       "      <th>4</th>\n",
       "      <td>1</td>\n",
       "      <td>1</td>\n",
       "      <td>1</td>\n",
       "    </tr>\n",
       "    <tr>\n",
       "      <th>...</th>\n",
       "      <td>...</td>\n",
       "      <td>...</td>\n",
       "      <td>...</td>\n",
       "    </tr>\n",
       "    <tr>\n",
       "      <th>110</th>\n",
       "      <td>2</td>\n",
       "      <td>2</td>\n",
       "      <td>1</td>\n",
       "    </tr>\n",
       "    <tr>\n",
       "      <th>111</th>\n",
       "      <td>2</td>\n",
       "      <td>3</td>\n",
       "      <td>1</td>\n",
       "    </tr>\n",
       "    <tr>\n",
       "      <th>112</th>\n",
       "      <td>1</td>\n",
       "      <td>1</td>\n",
       "      <td>1</td>\n",
       "    </tr>\n",
       "    <tr>\n",
       "      <th>113</th>\n",
       "      <td>1</td>\n",
       "      <td>2</td>\n",
       "      <td>1</td>\n",
       "    </tr>\n",
       "    <tr>\n",
       "      <th>114</th>\n",
       "      <td>2</td>\n",
       "      <td>2</td>\n",
       "      <td>1</td>\n",
       "    </tr>\n",
       "  </tbody>\n",
       "</table>\n",
       "<p>115 rows × 3 columns</p>\n",
       "</div>"
      ],
      "text/plain": [
       "     Jenis Pemeriksaan  SHIFT  Jenis Pasien\n",
       "0                    1      1             1\n",
       "1                    1      1             1\n",
       "2                    1      1             1\n",
       "3                    1      1             1\n",
       "4                    1      1             1\n",
       "..                 ...    ...           ...\n",
       "110                  2      2             1\n",
       "111                  2      3             1\n",
       "112                  1      1             1\n",
       "113                  1      2             1\n",
       "114                  2      2             1\n",
       "\n",
       "[115 rows x 3 columns]"
      ]
     },
     "execution_count": 179,
     "metadata": {},
     "output_type": "execute_result"
    }
   ],
   "source": [
    "X= dataset[['Jenis Pemeriksaan', 'SHIFT', 'Jenis Pasien', 'Detil Pemeriksaan']]\n",
    "X"
   ]
  },
  {
   "cell_type": "markdown",
   "metadata": {},
   "source": [
    "#### Menggabungkan data"
   ]
  },
  {
   "cell_type": "code",
   "execution_count": 180,
   "metadata": {},
   "outputs": [
    {
     "name": "stdout",
     "output_type": "stream",
     "text": [
      "     Umur  SHIFT  Jenis Pasien  Jenis Pemeriksaan  Detil Pemeriksaan  \\\n",
      "0    48.0      1             1                  1                  1   \n",
      "1    54.0      1             1                  1                  1   \n",
      "2    53.0      1             1                  1                  1   \n",
      "3    55.0      1             1                  1                  1   \n",
      "4    71.0      1             1                  1                  1   \n",
      "..    ...    ...           ...                ...                ...   \n",
      "110   5.0      2             1                  2                  2   \n",
      "111  13.0      3             1                  2                  2   \n",
      "112  38.0      1             1                  1                  7   \n",
      "113  32.0      2             1                  1                 16   \n",
      "114  48.0      2             1                  2                 14   \n",
      "\n",
      "     Jenis Pembayaran  Waktu Tunggu  Range_Waktu_tunggu  \n",
      "0                   1             24                  1  \n",
      "1                   3             24                  1  \n",
      "2                   2             23                  1  \n",
      "3                   3             23                  1  \n",
      "4                   3             24                  1  \n",
      "..                ...            ...                ...  \n",
      "110                 2             36                  2  \n",
      "111                 3             13                  0  \n",
      "112                 2             22                  1  \n",
      "113                 3             18                  0  \n",
      "114                 2             23                  1  \n",
      "\n",
      "[115 rows x 8 columns]\n"
     ]
    }
   ],
   "source": [
    "dataset = dataset.assign(Range_Waktu_tunggu=ordinal_data)\n",
    "print(dataset)"
   ]
  },
  {
   "cell_type": "code",
   "execution_count": 181,
   "metadata": {},
   "outputs": [
    {
     "name": "stdout",
     "output_type": "stream",
     "text": [
      "      Umur  SHIFT  Jenis Pasien  Jenis Pemeriksaan  Detil Pemeriksaan  \\\n",
      "0    False  False         False              False              False   \n",
      "1    False  False         False              False              False   \n",
      "2    False  False         False              False              False   \n",
      "3    False  False         False              False              False   \n",
      "4    False  False         False              False              False   \n",
      "..     ...    ...           ...                ...                ...   \n",
      "110  False  False         False              False              False   \n",
      "111  False  False         False              False              False   \n",
      "112  False  False         False              False              False   \n",
      "113  False  False         False              False              False   \n",
      "114  False  False         False              False              False   \n",
      "\n",
      "     Jenis Pembayaran  Waktu Tunggu   Range_Waktu_tunggu  \n",
      "0               False          False               False  \n",
      "1               False          False               False  \n",
      "2               False          False               False  \n",
      "3               False          False               False  \n",
      "4               False          False               False  \n",
      "..                ...            ...                 ...  \n",
      "110             False          False               False  \n",
      "111             False          False               False  \n",
      "112             False          False               False  \n",
      "113             False          False               False  \n",
      "114             False          False               False  \n",
      "\n",
      "[115 rows x 8 columns]\n"
     ]
    }
   ],
   "source": [
    "is_nan = dataset.isna()\n",
    "print(is_nan)"
   ]
  },
  {
   "cell_type": "markdown",
   "metadata": {},
   "source": [
    "### Data Testing"
   ]
  },
  {
   "cell_type": "code",
   "execution_count": 182,
   "metadata": {},
   "outputs": [
    {
     "data": {
      "text/plain": [
       "0      1\n",
       "1      1\n",
       "2      1\n",
       "3      1\n",
       "4      1\n",
       "      ..\n",
       "110    2\n",
       "111    0\n",
       "112    1\n",
       "113    0\n",
       "114    1\n",
       "Name: Range_Waktu_tunggu, Length: 115, dtype: category\n",
       "Categories (3, int64): [0 < 1 < 2]"
      ]
     },
     "execution_count": 182,
     "metadata": {},
     "output_type": "execute_result"
    }
   ],
   "source": [
    "y = dataset['Range_Waktu_tunggu']\n",
    "y"
   ]
  },
  {
   "cell_type": "markdown",
   "metadata": {},
   "source": [
    "### Data training dan testing"
   ]
  },
  {
   "cell_type": "code",
   "execution_count": 183,
   "metadata": {},
   "outputs": [],
   "source": [
    "X_train, X_test, y_train, y_test = train_test_split(X, y, test_size=0.2, random_state=0)"
   ]
  },
  {
   "cell_type": "markdown",
   "metadata": {},
   "source": [
    "### Desicion Tree"
   ]
  },
  {
   "cell_type": "code",
   "execution_count": 184,
   "metadata": {},
   "outputs": [
    {
     "name": "stdout",
     "output_type": "stream",
     "text": [
      "Decision Tree\n",
      "Prediksi Decision Tree :  [0 1 0 0 0 0 0 1 0 1 0 0 0 0 1 0 1 0 1 1 0 0 0]\n"
     ]
    }
   ],
   "source": [
    "print(\"Decision Tree\")\n",
    "Decision = DecisionTreeClassifier(random_state=0)\n",
    "Decision.fit(X_train, y_train)\n",
    "y_predictionDT = Decision.predict(X_test)\n",
    "accuracy_DT = round(accuracy_score(y_test, y_predictionDT)* 100, 2)\n",
    "acc_DecisionDT = round(Decision.score(X_train, y_train)* 100, 2)\n",
    "print(\"Prediksi Decision Tree : \", y_predictionDT)"
   ]
  },
  {
   "cell_type": "code",
   "execution_count": 185,
   "metadata": {},
   "outputs": [
    {
     "name": "stdout",
     "output_type": "stream",
     "text": [
      "Akurasi Decision Tree:  47.82608695652174 %\n",
      "Recall Decision Tree:  31.196581196581196 %\n",
      "Precision Decision Tree:  0.25595238095238093\n"
     ]
    },
    {
     "name": "stderr",
     "output_type": "stream",
     "text": [
      "/Library/Frameworks/Python.framework/Versions/3.11/lib/python3.11/site-packages/sklearn/metrics/_classification.py:1344: UndefinedMetricWarning: Precision is ill-defined and being set to 0.0 in labels with no predicted samples. Use `zero_division` parameter to control this behavior.\n",
      "  _warn_prf(average, modifier, msg_start, len(result))\n"
     ]
    }
   ],
   "source": [
    "# Confusion Matrix Decision Tree\n",
    "CMDT = confusion_matrix(y_test, y_predictionDT)\n",
    "accuracyDT = accuracy_score(y_test, y_predictionDT)\n",
    "precisionDT = precision_score(y_test, y_predictionDT, average='macro')\n",
    "recallDT = recall_score(y_test, y_predictionDT, average='macro')\n",
    "f1DT = f1_score(y_test, y_predictionDT, average='macro')\n",
    "\n",
    "TNDT = CMDT[1][1] * 1.0\n",
    "FNDT = CMDT[1][0] * 1.0\n",
    "TPDT = CMDT[0][0] * 1.0\n",
    "FPDT = CMDT[0][1] * 1.0\n",
    "total = TNDT + TPDT + FPDT + FNDT\n",
    "sensitivityDT = TNDT / (TNDT + FPDT)* 100\n",
    "specificityDT = TPDT / (TPDT + FNDT)* 100\n",
    "\n",
    "print(\"Akurasi Decision Tree: \", accuracyDT * 100, \"%\")\n",
    "print(\"Recall Decision Tree: \", recallDT * 100, \"%\")\n",
    "print(\"Precision Decision Tree: \", + precisionDT)\n"
   ]
  },
  {
   "cell_type": "code",
   "execution_count": 186,
   "metadata": {},
   "outputs": [
    {
     "name": "stdout",
     "output_type": "stream",
     "text": [
      "Confusion matrix for Decision Tree\n",
      " [[10  3  0]\n",
      " [ 5  1  0]\n",
      " [ 1  3  0]]\n"
     ]
    },
    {
     "data": {
      "image/png": "[encoded data removed]",
      "text/plain": [
       "<Figure size 800x500 with 2 Axes>"
      ]
     },
     "metadata": {},
     "output_type": "display_data"
    }
   ],
   "source": [
    "# Menampilkan Confusion Matrix Decision Tree\n",
    "cm_displayDT=ConfusionMatrixDisplay(confusion_matrix=CMDT)\n",
    "print('Confusion matrix for Decision Tree\\n',CMDT)\n",
    "f, ax = plt.subplots(figsize=(8,5))\n",
    "sns.heatmap(confusion_matrix(y_test, y_predictionDT), annot=True, fmt=\".0f\", ax=ax)\n",
    "plt.xlabel(\"Predicted\")\n",
    "plt.ylabel(\"Actual\")\n",
    "plt.show()"
   ]
  },
  {
   "cell_type": "markdown",
   "metadata": {},
   "source": [
    "### Support Vector Machine"
   ]
  },
  {
   "cell_type": "code",
   "execution_count": 187,
   "metadata": {},
   "outputs": [
    {
     "name": "stdout",
     "output_type": "stream",
     "text": [
      "Support Vector Machine\n",
      "Prediction SVM:  [0 1 0 0 0 0 0 1 0 1 0 0 0 0 1 0 1 0 1 1 0 0 0]\n"
     ]
    }
   ],
   "source": [
    "# SVM\n",
    "print(\"Support Vector Machine\")\n",
    "svm_model = SVC(random_state=0)\n",
    "svm_model.fit(X_train, y_train)\n",
    "y_prediction_svm = svm_model.predict(X_test)\n",
    "accuracy_svm = round(accuracy_score(y_test, y_prediction_svm) * 100, 2)\n",
    "acc_decision_svm = round(svm_model.score(X_train, y_train) * 100, 2)\n",
    "print(\"Prediction SVM: \", y_prediction_svm)"
   ]
  },
  {
   "cell_type": "code",
   "execution_count": 188,
   "metadata": {},
   "outputs": [
    {
     "name": "stdout",
     "output_type": "stream",
     "text": [
      "Accuracy SVM:  47.82608695652174 %\n",
      "Recall SVM:  31.196581196581196 %\n",
      "Precision SVM:  0.25595238095238093\n"
     ]
    },
    {
     "name": "stderr",
     "output_type": "stream",
     "text": [
      "/Library/Frameworks/Python.framework/Versions/3.11/lib/python3.11/site-packages/sklearn/metrics/_classification.py:1344: UndefinedMetricWarning: Precision is ill-defined and being set to 0.0 in labels with no predicted samples. Use `zero_division` parameter to control this behavior.\n",
      "  _warn_prf(average, modifier, msg_start, len(result))\n"
     ]
    }
   ],
   "source": [
    "# Confusion Matrix SVM\n",
    "CMSVM = confusion_matrix(y_test, y_prediction_svm)\n",
    "accuracy_svm = accuracy_score(y_test, y_prediction_svm)\n",
    "precision_svm = precision_score(y_test, y_prediction_svm, average='macro')\n",
    "recall_svm = recall_score(y_test, y_prediction_svm, average='macro')\n",
    "f1_svm = f1_score(y_test, y_prediction_svm, average='macro')\n",
    "\n",
    "TNSVM = CMSVM[1][1] * 1.0\n",
    "FNSVM = CMSVM[1][0] * 1.0\n",
    "TPSVM = CMSVM[0][0] * 1.0\n",
    "FPSVM = CMSVM[0][1] * 1.0\n",
    "total_svm = TNSVM + TPSVM + FPSVM + FNSVM\n",
    "sensitivity_svm = TNSVM / (TNSVM + FPSVM) * 100\n",
    "specificity_svm = TPSVM / (TPSVM + FNSVM) * 100\n",
    "\n",
    "print(\"Accuracy SVM: \", accuracy_svm * 100, \"%\")\n",
    "print(\"Recall SVM: \", recall_svm * 100, \"%\")\n",
    "print(\"Precision SVM: \", +precision_svm)"
   ]
  },
  {
   "cell_type": "code",
   "execution_count": 189,
   "metadata": {},
   "outputs": [
    {
     "name": "stdout",
     "output_type": "stream",
     "text": [
      "Confusion matrix for SVM\n",
      " [[10  3  0]\n",
      " [ 5  1  0]\n",
      " [ 1  3  0]]\n"
     ]
    },
    {
     "data": {
      "image/png": "[encoded data removed]",
      "text/plain": [
       "<Figure size 800x500 with 2 Axes>"
      ]
     },
     "metadata": {},
     "output_type": "display_data"
    }
   ],
   "source": [
    "# Display Confusion Matrix SVM\n",
    "cm_display_svm = ConfusionMatrixDisplay(confusion_matrix=CMSVM)\n",
    "print('Confusion matrix for SVM\\n', CMSVM)\n",
    "f, ax = plt.subplots(figsize=(8, 5))\n",
    "sns.heatmap(confusion_matrix(y_test, y_prediction_svm), annot=True, fmt=\".0f\", ax=ax)\n",
    "plt.xlabel(\"Predicted\")\n",
    "plt.ylabel(\"Actual\")\n",
    "plt.show()"
   ]
  },
  {
   "cell_type": "markdown",
   "metadata": {},
   "source": [
    "### Logistic Regression"
   ]
  },
  {
   "cell_type": "code",
   "execution_count": 190,
   "metadata": {},
   "outputs": [
    {
     "name": "stdout",
     "output_type": "stream",
     "text": [
      "Logistic Regression\n",
      "Prediction Logistic Regression:  [0 1 0 0 0 0 0 1 0 1 0 0 0 1 0 0 1 0 1 1 0 0 0]\n"
     ]
    }
   ],
   "source": [
    "# Logistic Regression\n",
    "print(\"Logistic Regression\")\n",
    "logreg_model = LogisticRegression(random_state=0)\n",
    "logreg_model.fit(X_train, y_train)\n",
    "y_prediction_logreg = logreg_model.predict(X_test)\n",
    "accuracy_logreg = round(accuracy_score(y_test, y_prediction_logreg) * 100, 2)\n",
    "acc_decision_logreg = round(logreg_model.score(X_train, y_train) * 100, 2)\n",
    "print(\"Prediction Logistic Regression: \", y_prediction_logreg)"
   ]
  },
  {
   "cell_type": "code",
   "execution_count": 191,
   "metadata": {},
   "outputs": [
    {
     "name": "stdout",
     "output_type": "stream",
     "text": [
      "Accuracy Logistic Regression:  39.130434782608695 %\n",
      "Recall Logistic Regression:  23.076923076923077 %\n",
      "Precision Logistic Regression:  0.1875\n"
     ]
    },
    {
     "name": "stderr",
     "output_type": "stream",
     "text": [
      "/Library/Frameworks/Python.framework/Versions/3.11/lib/python3.11/site-packages/sklearn/metrics/_classification.py:1344: UndefinedMetricWarning: Precision is ill-defined and being set to 0.0 in labels with no predicted samples. Use `zero_division` parameter to control this behavior.\n",
      "  _warn_prf(average, modifier, msg_start, len(result))\n"
     ]
    }
   ],
   "source": [
    "# Confusion Matrix Logistic Regression\n",
    "CMLogReg = confusion_matrix(y_test, y_prediction_logreg)\n",
    "accuracy_logreg = accuracy_score(y_test, y_prediction_logreg)\n",
    "precision_logreg = precision_score(y_test, y_prediction_logreg, average='macro')\n",
    "recall_logreg = recall_score(y_test, y_prediction_logreg, average='macro')\n",
    "f1_logreg = f1_score(y_test, y_prediction_logreg, average='macro')\n",
    "\n",
    "TNLogReg = CMLogReg[1][1] * 1.0\n",
    "FNLogReg = CMLogReg[1][0] * 1.0\n",
    "TPLogReg = CMLogReg[0][0] * 1.0\n",
    "FPLogReg = CMLogReg[0][1] * 1.0\n",
    "total_logreg = TNLogReg + TPLogReg + FPLogReg + FNLogReg\n",
    "sensitivity_logreg = TNLogReg / (TNLogReg + FPLogReg) * 100\n",
    "specificity_logreg = TPLogReg / (TPLogReg + FNLogReg) * 100\n",
    "\n",
    "print(\"Accuracy Logistic Regression: \", accuracy_logreg * 100, \"%\")\n",
    "print(\"Recall Logistic Regression: \", recall_logreg * 100, \"%\")\n",
    "print(\"Precision Logistic Regression: \", +precision_logreg)"
   ]
  },
  {
   "cell_type": "code",
   "execution_count": 192,
   "metadata": {},
   "outputs": [
    {
     "name": "stdout",
     "output_type": "stream",
     "text": [
      "Confusion matrix for Logistic Regression\n",
      " [[9 4 0]\n",
      " [6 0 0]\n",
      " [1 3 0]]\n"
     ]
    },
    {
     "data": {
      "image/png": "[encoded data removed]",
      "text/plain": [
       "<Figure size 800x500 with 2 Axes>"
      ]
     },
     "metadata": {},
     "output_type": "display_data"
    }
   ],
   "source": [
    "# Display Confusion Matrix Logistic Regression\n",
    "cm_display_logreg = ConfusionMatrixDisplay(confusion_matrix=CMLogReg)\n",
    "print('Confusion matrix for Logistic Regression\\n', CMLogReg)\n",
    "f, ax = plt.subplots(figsize=(8, 5))\n",
    "sns.heatmap(confusion_matrix(y_test, y_prediction_logreg), annot=True, fmt=\".0f\", ax=ax)\n",
    "plt.xlabel(\"Predicted\")\n",
    "plt.ylabel(\"Actual\")\n",
    "plt.show()"
   ]
  },
  {
   "cell_type": "markdown",
   "metadata": {},
   "source": [
    "### KNN"
   ]
  },
  {
   "cell_type": "code",
   "execution_count": 193,
   "metadata": {},
   "outputs": [
    {
     "name": "stdout",
     "output_type": "stream",
     "text": [
      "k-Nearest Neighbors (KNN)\n",
      "Prediction k-Nearest Neighbors (KNN):  [1 1 0 0 0 0 1 1 1 1 0 0 1 0 1 1 0 1 1 1 1 0 0]\n"
     ]
    }
   ],
   "source": [
    "# k-Nearest Neighbors (KNN)\n",
    "print(\"k-Nearest Neighbors (KNN)\")\n",
    "knn_model = KNeighborsClassifier()\n",
    "knn_model.fit(X_train, y_train)\n",
    "y_prediction_knn = knn_model.predict(X_test)\n",
    "accuracy_knn = round(accuracy_score(y_test, y_prediction_knn) * 100, 2)\n",
    "acc_decision_knn = round(knn_model.score(X_train, y_train) * 100, 2)\n",
    "print(\"Prediction k-Nearest Neighbors (KNN): \", y_prediction_knn)\n"
   ]
  },
  {
   "cell_type": "code",
   "execution_count": 194,
   "metadata": {},
   "outputs": [
    {
     "name": "stdout",
     "output_type": "stream",
     "text": [
      "Accuracy k-Nearest Neighbors (KNN):  52.17391304347826 %\n",
      "Recall k-Nearest Neighbors (KNN):  42.73504273504273 %\n",
      "Precision k-Nearest Neighbors (KNN):  0.36923076923076925\n"
     ]
    },
    {
     "name": "stderr",
     "output_type": "stream",
     "text": [
      "/Library/Frameworks/Python.framework/Versions/3.11/lib/python3.11/site-packages/sklearn/metrics/_classification.py:1344: UndefinedMetricWarning: Precision is ill-defined and being set to 0.0 in labels with no predicted samples. Use `zero_division` parameter to control this behavior.\n",
      "  _warn_prf(average, modifier, msg_start, len(result))\n"
     ]
    }
   ],
   "source": [
    "# Confusion Matrix k-Nearest Neighbors (KNN)\n",
    "CMKNN = confusion_matrix(y_test, y_prediction_knn)\n",
    "accuracy_knn = accuracy_score(y_test, y_prediction_knn)\n",
    "precision_knn = precision_score(y_test, y_prediction_knn, average='macro')\n",
    "recall_knn = recall_score(y_test, y_prediction_knn, average='macro')\n",
    "f1_knn = f1_score(y_test, y_prediction_knn, average='macro')\n",
    "\n",
    "TNKNN = CMKNN[1][1] * 1.0\n",
    "FNKNN = CMKNN[1][0] * 1.0\n",
    "TPKNN = CMKNN[0][0] * 1.0\n",
    "FPKNN = CMKNN[0][1] * 1.0\n",
    "total_knn = TNKNN + TPKNN + FPKNN + FNKNN\n",
    "sensitivity_knn = TNKNN / (TNKNN + FPKNN) * 100\n",
    "specificity_knn = TPKNN / (TPKNN + FNKNN) * 100\n",
    "\n",
    "print(\"Accuracy k-Nearest Neighbors (KNN): \", accuracy_knn * 100, \"%\")\n",
    "print(\"Recall k-Nearest Neighbors (KNN): \", recall_knn * 100, \"%\")\n",
    "print(\"Precision k-Nearest Neighbors (KNN): \", +precision_knn)"
   ]
  },
  {
   "cell_type": "code",
   "execution_count": 195,
   "metadata": {},
   "outputs": [
    {
     "name": "stdout",
     "output_type": "stream",
     "text": [
      "Confusion matrix for k-Nearest Neighbors (KNN)\n",
      " [[8 5 0]\n",
      " [2 4 0]\n",
      " [0 4 0]]\n"
     ]
    },
    {
     "data": {
      "image/png": "[encoded data removed]",
      "text/plain": [
       "<Figure size 800x500 with 2 Axes>"
      ]
     },
     "metadata": {},
     "output_type": "display_data"
    }
   ],
   "source": [
    "# Display Confusion Matrix k-Nearest Neighbors (KNN)\n",
    "cm_display_knn = ConfusionMatrixDisplay(confusion_matrix=CMKNN)\n",
    "print('Confusion matrix for k-Nearest Neighbors (KNN)\\n', CMKNN)\n",
    "f, ax = plt.subplots(figsize=(8, 5))\n",
    "sns.heatmap(confusion_matrix(y_test, y_prediction_knn), annot=True, fmt=\".0f\", ax=ax)\n",
    "plt.xlabel(\"Predicted\")\n",
    "plt.ylabel(\"Actual\")\n",
    "plt.show()"
   ]
  },
  {
   "cell_type": "markdown",
   "metadata": {},
   "source": [
    "### Random Forest"
   ]
  },
  {
   "cell_type": "code",
   "execution_count": 196,
   "metadata": {},
   "outputs": [
    {
     "name": "stdout",
     "output_type": "stream",
     "text": [
      "Random Forest\n",
      "Prediksi Random Forest :  [0 1 0 0 0 0 0 1 0 1 0 0 0 0 1 0 1 0 1 1 0 0 0]\n"
     ]
    }
   ],
   "source": [
    "# Random Forest\n",
    "print(\"Random Forest\")\n",
    "Forest = RandomForestClassifier(random_state=0)\n",
    "Forest.fit(X_train, y_train)\n",
    "y_predictionRF = Forest.predict(X_test)\n",
    "accuracy_RF = round(accuracy_score(y_test, y_predictionRF)* 100, 2)\n",
    "acc_DecisionRF = round(Forest.score(X_train, y_train)* 100, 2)\n",
    "print(\"Prediksi Random Forest : \", y_predictionRF)"
   ]
  },
  {
   "cell_type": "code",
   "execution_count": 197,
   "metadata": {},
   "outputs": [
    {
     "name": "stdout",
     "output_type": "stream",
     "text": [
      "Akurasi Random Forest:  47.82608695652174 %\n",
      "Recall Random Forest:  31.196581196581196 %\n",
      "Precision Random Forest:  0.25595238095238093\n"
     ]
    },
    {
     "name": "stderr",
     "output_type": "stream",
     "text": [
      "/Library/Frameworks/Python.framework/Versions/3.11/lib/python3.11/site-packages/sklearn/metrics/_classification.py:1344: UndefinedMetricWarning: Precision is ill-defined and being set to 0.0 in labels with no predicted samples. Use `zero_division` parameter to control this behavior.\n",
      "  _warn_prf(average, modifier, msg_start, len(result))\n"
     ]
    }
   ],
   "source": [
    "# Confusion Matrix Random Forest\n",
    "CMRF = confusion_matrix(y_test, y_predictionRF)\n",
    "accuracyRF = accuracy_score(y_test, y_predictionRF)\n",
    "precisionRF = precision_score(y_test, y_predictionRF, average='macro')\n",
    "recallRF = recall_score(y_test, y_predictionRF, average='macro')\n",
    "f1RF = f1_score(y_test, y_predictionRF, average='macro')\n",
    "\n",
    "TNRF = CMRF[1][1] * 1.0\n",
    "FNRF = CMRF[1][0] * 1.0\n",
    "TPRF = CMRF[0][0] * 1.0\n",
    "FPRF = CMRF[0][1] * 1.0\n",
    "total = TNRF + TPRF + FPRF + FNRF\n",
    "sensitivityRF = TNRF / (TNRF + FPRF)* 100\n",
    "specificityRF = TPRF / (TPRF + FNRF)* 100\n",
    "\n",
    "print(\"Akurasi Random Forest: \", accuracyRF * 100, \"%\")\n",
    "print(\"Recall Random Forest: \", recallRF*100, \"%\")\n",
    "print(\"Precision Random Forest: \", + precisionRF)"
   ]
  },
  {
   "cell_type": "code",
   "execution_count": 198,
   "metadata": {},
   "outputs": [
    {
     "name": "stdout",
     "output_type": "stream",
     "text": [
      "Confusion matrix for Random Forest\n",
      " [[10  3  0]\n",
      " [ 5  1  0]\n",
      " [ 1  3  0]]\n"
     ]
    },
    {
     "data": {
      "image/png": "[encoded data removed]",
      "text/plain": [
       "<Figure size 800x500 with 2 Axes>"
      ]
     },
     "metadata": {},
     "output_type": "display_data"
    }
   ],
   "source": [
    "# Menampilkan Confusion Matrix Random Forest\n",
    "cm_displayRF=ConfusionMatrixDisplay(confusion_matrix=CMRF)\n",
    "print('Confusion matrix for Random Forest\\n',CMRF)\n",
    "f, ax = plt.subplots(figsize=(8,5))\n",
    "sns.heatmap(confusion_matrix(y_test, y_predictionRF), annot=True, fmt=\".0f\", ax=ax)\n",
    "plt.xlabel(\"Predicted\")\n",
    "plt.ylabel(\"Actual\")\n",
    "plt.show()"
   ]
  },
  {
   "cell_type": "markdown",
   "metadata": {},
   "source": [
    "### Naive Bayes"
   ]
  },
  {
   "cell_type": "code",
   "execution_count": 199,
   "metadata": {},
   "outputs": [
    {
     "name": "stdout",
     "output_type": "stream",
     "text": [
      "Naive Bayes\n",
      "Prediksi Naive Bayes :  [2 2 2 2 2 2 2 1 2 2 0 2 2 2 0 2 0 2 2 2 2 2 0]\n"
     ]
    }
   ],
   "source": [
    "# Naive Bayes\n",
    "print(\"Naive Bayes\")\n",
    "gaussian = GaussianNB()\n",
    "gaussian.fit(X_train, y_train)\n",
    "y_predictionNB = gaussian.predict(X_test)\n",
    "accuracy_nb = round(accuracy_score(y_test, y_predictionNB)* 100, 2)\n",
    "acc_gaussianNB = round(gaussian.score(X_train, y_train)* 100, 2)\n",
    "print(\"Prediksi Naive Bayes : \", y_predictionNB)"
   ]
  },
  {
   "cell_type": "code",
   "execution_count": 200,
   "metadata": {},
   "outputs": [
    {
     "name": "stdout",
     "output_type": "stream",
     "text": [
      "Akurasi Naive Bayes:  26.08695652173913 %\n",
      "Recall Naive Bayes:  32.69230769230769 %\n",
      "Precision Naive Bayes:  0.3055555555555555\n"
     ]
    },
    {
     "name": "stderr",
     "output_type": "stream",
     "text": [
      "/var/folders/28/hwd8v8k93qx6g1nypzk2vcx40000gn/T/ipykernel_6186/3777235253.py:13: RuntimeWarning: invalid value encountered in scalar divide\n",
      "  sensitivityNB = TNNB / (TNNB + FPNB)* 100\n"
     ]
    }
   ],
   "source": [
    "# Confusion Matrix Naive Bayes\n",
    "CMNB = confusion_matrix(y_test, y_predictionNB)\n",
    "accuracyNB = accuracy_score(y_test, y_predictionNB)\n",
    "precisionNB = precision_score(y_test, y_predictionNB, average='macro')\n",
    "recallNB = recall_score(y_test, y_predictionNB, average='macro')\n",
    "f1NB = f1_score(y_test, y_predictionNB, average='macro')\n",
    "\n",
    "TNNB = CMNB[1][1] * 1.0\n",
    "FNNB = CMNB[1][0] * 1.0\n",
    "TPNB = CMNB[0][0] * 1.0\n",
    "FPNB = CMNB[0][1] * 1.0\n",
    "total = TNNB + TPNB + FPNB + FNNB\n",
    "sensitivityNB = TNNB / (TNNB + FPNB)* 100\n",
    "specificityNB = TPNB / (TPNB + FNNB)* 100\n",
    "\n",
    "print(\"Akurasi Naive Bayes: \", accuracyNB * 100, \"%\")\n",
    "print(\"Recall Naive Bayes: \", recallNB*100, \"%\")\n",
    "print(\"Precision Naive Bayes: \", + precisionNB)"
   ]
  },
  {
   "cell_type": "code",
   "execution_count": 201,
   "metadata": {},
   "outputs": [
    {
     "name": "stdout",
     "output_type": "stream",
     "text": [
      "Confusion matrix for Naive Bayes\n",
      " [[ 3  0 10]\n",
      " [ 1  0  5]\n",
      " [ 0  1  3]]\n"
     ]
    },
    {
     "data": {
      "image/png": "[encoded data removed]",
      "text/plain": [
       "<Figure size 800x500 with 2 Axes>"
      ]
     },
     "metadata": {},
     "output_type": "display_data"
    }
   ],
   "source": [
    "# Menampilkan Confusion Matrix Naive Bayes\n",
    "cm_displayNB=ConfusionMatrixDisplay(confusion_matrix=CMNB)\n",
    "print('Confusion matrix for Naive Bayes\\n',CMNB)\n",
    "f, ax = plt.subplots(figsize=(8,5))\n",
    "sns.heatmap(confusion_matrix(y_test, y_predictionNB), annot=True, fmt=\".0f\", ax=ax)\n",
    "plt.xlabel(\"Predicted\")\n",
    "plt.ylabel(\"Actual\")\n",
    "plt.show()"
   ]
  },
  {
   "cell_type": "code",
   "execution_count": 202,
   "metadata": {},
   "outputs": [],
   "source": [
    "import pickle\n",
    "filename = 'kategori_tunggu.sav'\n",
    "pickle.dump(svm_model, open(filename, 'wb'))"
   ]
  }
 ],
 "metadata": {
  "kernelspec": {
   "display_name": "Python 3",
   "language": "python",
   "name": "python3"
  },
  "language_info": {
   "codemirror_mode": {
    "name": "ipython",
    "version": 3
   },
   "file_extension": ".py",
   "mimetype": "text/x-python",
   "name": "python",
   "nbconvert_exporter": "python",
   "pygments_lexer": "ipython3",
   "version": "3.11.5"
  }
 },
 "nbformat": 4,
 "nbformat_minor": 2
}
